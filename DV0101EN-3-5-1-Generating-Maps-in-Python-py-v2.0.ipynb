{
 "cells": [
  {
   "cell_type": "markdown",
   "metadata": {
    "button": false,
    "new_sheet": false,
    "run_control": {
     "read_only": false
    }
   },
   "source": [
    "## Introduction\n",
    "\n",
    "In this lab, we will learn how to create maps for different objectives. To do that, we will part ways with Matplotlib and work with another Python visualization library, namely **Folium**. What is nice about **Folium** is that it was developed for the sole purpose of visualizing geospatial data. While other libraries are available to visualize geospatial data, such as **plotly**, they might have a cap on how many API calls you can make within a defined time frame. **Folium**, on the other hand, is completely free."
   ]
  },
  {
   "cell_type": "markdown",
   "metadata": {
    "button": false,
    "new_sheet": false,
    "run_control": {
     "read_only": false
    }
   },
   "source": [
    "## Table of Contents\n",
    "\n",
    "<div class=\"alert alert-block alert-info\" style=\"margin-top: 20px\">\n",
    "\n",
    "1. [Exploring Datasets with *p*andas](#0)<br>\n",
    "2. [Downloading and Prepping Data](#2)<br>\n",
    "3. [Introduction to Folium](#4) <br>\n",
    "4. [Map with Markers](#6) <br>\n",
    "5. [Choropleth Maps](#8) <br>\n",
    "</div>\n",
    "<hr>"
   ]
  },
  {
   "cell_type": "markdown",
   "metadata": {
    "button": false,
    "new_sheet": false,
    "run_control": {
     "read_only": false
    }
   },
   "source": [
    "# Exploring Datasets with *pandas* and Matplotlib<a id=\"0\"></a>\n",
    "\n",
    "Toolkits: This lab heavily relies on [*pandas*](http://pandas.pydata.org/) and [**Numpy**](http://www.numpy.org/) for data wrangling, analysis, and visualization. The primary plotting library we will explore in this lab is [**Folium**](https://github.com/python-visualization/folium/).\n",
    "\n",
    "Datasets: \n",
    "\n",
    "1. San Francisco Police Department Incidents for the year 2016 - [Police Department Incidents](https://data.sfgov.org/Public-Safety/Police-Department-Incidents-Previous-Year-2016-/ritf-b9ki) from San Francisco public data portal. Incidents derived from San Francisco Police Department (SFPD) Crime Incident Reporting system. Updated daily, showing data for the entire year of 2016. Address and location has been anonymized by moving to mid-block or to an intersection.    \n",
    "\n",
    "2. Immigration to Canada from 1980 to 2013 - [International migration flows to and from selected countries - The 2015 revision](http://www.un.org/en/development/desa/population/migration/data/empirical2/migrationflows.shtml) from United Nation's website. The dataset contains annual data on the flows of international migrants as recorded by the countries of destination. The data presents both inflows and outflows according to the place of birth, citizenship or place of previous / next residence both for foreigners and nationals. For this lesson, we will focus on the Canadian Immigration data"
   ]
  },
  {
   "cell_type": "markdown",
   "metadata": {
    "button": false,
    "new_sheet": false,
    "run_control": {
     "read_only": false
    }
   },
   "source": [
    "# Downloading and Prepping Data <a id=\"2\"></a>"
   ]
  },
  {
   "cell_type": "markdown",
   "metadata": {
    "button": false,
    "new_sheet": false,
    "run_control": {
     "read_only": false
    }
   },
   "source": [
    "Import Primary Modules:"
   ]
  },
  {
   "cell_type": "code",
   "execution_count": 1,
   "metadata": {
    "button": false,
    "new_sheet": false,
    "run_control": {
     "read_only": false
    }
   },
   "outputs": [],
   "source": [
    "\n",
    "import numpy as np  # useful for many scientific computing in Python\n",
    "import pandas as pd # primary data structure library"
   ]
  },
  {
   "cell_type": "markdown",
   "metadata": {
    "button": false,
    "new_sheet": false,
    "run_control": {
     "read_only": false
    }
   },
   "source": [
    "# Introduction to Folium <a id=\"4\"></a>"
   ]
  },
  {
   "cell_type": "markdown",
   "metadata": {
    "button": false,
    "new_sheet": false,
    "run_control": {
     "read_only": false
    }
   },
   "source": [
    "Folium is a powerful Python library that helps you create several types of Leaflet maps. The fact that the Folium results are interactive makes this library very useful for dashboard building.\n",
    "\n",
    "From the official Folium documentation page:\n",
    "\n",
    "> Folium builds on the data wrangling strengths of the Python ecosystem and the mapping strengths of the Leaflet.js library. Manipulate your data in Python, then visualize it in on a Leaflet map via Folium.\n",
    "\n",
    "> Folium makes it easy to visualize data that's been manipulated in Python on an interactive Leaflet map. It enables both the binding of data to a map for choropleth visualizations as well as passing Vincent/Vega visualizations as markers on the map.\n",
    "\n",
    "> The library has a number of built-in tilesets from OpenStreetMap, Mapbox, and Stamen, and supports custom tilesets with Mapbox or Cloudmade API keys. Folium supports both GeoJSON and TopoJSON overlays, as well as the binding of data to those overlays to create choropleth maps with color-brewer color schemes."
   ]
  },
  {
   "cell_type": "markdown",
   "metadata": {
    "button": false,
    "new_sheet": false,
    "run_control": {
     "read_only": false
    }
   },
   "source": [
    "#### Let's install **Folium**"
   ]
  },
  {
   "cell_type": "markdown",
   "metadata": {
    "button": false,
    "new_sheet": false,
    "run_control": {
     "read_only": false
    }
   },
   "source": [
    "**Folium** is not available by default. So, we first need to install it before we are able to import it."
   ]
  },
  {
   "cell_type": "code",
   "execution_count": 2,
   "metadata": {
    "button": false,
    "jupyter": {
     "outputs_hidden": false
    },
    "new_sheet": false,
    "run_control": {
     "read_only": false
    }
   },
   "outputs": [
    {
     "name": "stdout",
     "output_type": "stream",
     "text": [
      "Folium installed and imported!\n"
     ]
    }
   ],
   "source": [
    "#!conda install -c conda-forge folium=0.5.0 --yes\n",
    "import folium\n",
    "\n",
    "print('Folium installed and imported!')"
   ]
  },
  {
   "cell_type": "code",
   "execution_count": 3,
   "metadata": {},
   "outputs": [],
   "source": [
    "#!conda update -n base -c defaults conda --yes"
   ]
  },
  {
   "cell_type": "markdown",
   "metadata": {
    "button": false,
    "new_sheet": false,
    "run_control": {
     "read_only": false
    }
   },
   "source": [
    "Generating the world map is straigtforward in **Folium**. You simply create a **Folium** *Map* object and then you display it. What is attactive about **Folium** maps is that they are interactive, so you can zoom into any region of interest despite the initial zoom level. "
   ]
  },
  {
   "cell_type": "code",
   "execution_count": 4,
   "metadata": {
    "button": false,
    "jupyter": {
     "outputs_hidden": false
    },
    "new_sheet": false,
    "run_control": {
     "read_only": false
    },
    "scrolled": true
   },
   "outputs": [
    {
     "data": {
      "text/html": [
       "<div style=\"width:100%;\"><div style=\"position:relative;width:100%;height:0;padding-bottom:60%;\"><iframe src=\"data:text/html;charset=utf-8;base64,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\" style=\"position:absolute;width:100%;height:100%;left:0;top:0;border:none !important;\" allowfullscreen webkitallowfullscreen mozallowfullscreen></iframe></div></div>"
      ],
      "text/plain": [
       "<folium.folium.Map at 0x2be79649cc0>"
      ]
     },
     "execution_count": 4,
     "metadata": {},
     "output_type": "execute_result"
    }
   ],
   "source": [
    "# define the world map\n",
    "world_map = folium.Map()\n",
    "\n",
    "# display world map\n",
    "world_map"
   ]
  },
  {
   "cell_type": "markdown",
   "metadata": {
    "button": false,
    "new_sheet": false,
    "run_control": {
     "read_only": false
    }
   },
   "source": [
    "Go ahead. Try zooming in and out of the rendered map above."
   ]
  },
  {
   "cell_type": "markdown",
   "metadata": {
    "button": false,
    "new_sheet": false,
    "run_control": {
     "read_only": false
    }
   },
   "source": [
    "You can customize this default definition of the world map by specifying the centre of your map and the intial zoom level. \n",
    "\n",
    "All locations on a map are defined by their respective *Latitude* and *Longitude* values. So you can create a map and pass in a center of *Latitude* and *Longitude* values of **[0, 0]**. \n",
    "\n",
    "For a defined center, you can also define the intial zoom level into that location when the map is rendered. **The higher the zoom level the more the map is zoomed into the center**.\n",
    "\n",
    "Let's create a map centered around Canada and play with the zoom level to see how it affects the rendered map."
   ]
  },
  {
   "cell_type": "code",
   "execution_count": 5,
   "metadata": {
    "button": false,
    "jupyter": {
     "outputs_hidden": false
    },
    "new_sheet": false,
    "run_control": {
     "read_only": false
    }
   },
   "outputs": [
    {
     "data": {
      "text/html": [
       "<div style=\"width:100%;\"><div style=\"position:relative;width:100%;height:0;padding-bottom:60%;\"><iframe src=\"data:text/html;charset=utf-8;base64,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\" style=\"position:absolute;width:100%;height:100%;left:0;top:0;border:none !important;\" allowfullscreen webkitallowfullscreen mozallowfullscreen></iframe></div></div>"
      ],
      "text/plain": [
       "<folium.folium.Map at 0x2be7965e5f8>"
      ]
     },
     "execution_count": 5,
     "metadata": {},
     "output_type": "execute_result"
    }
   ],
   "source": [
    "# define the world map centered around Canada with a low zoom level\n",
    "world_map = folium.Map(location=[56.130, -106.35], zoom_start=4)\n",
    "\n",
    "# display world map\n",
    "world_map"
   ]
  },
  {
   "cell_type": "markdown",
   "metadata": {
    "button": false,
    "new_sheet": false,
    "run_control": {
     "read_only": false
    }
   },
   "source": [
    "Let's create the map again with a higher zoom level"
   ]
  },
  {
   "cell_type": "code",
   "execution_count": 6,
   "metadata": {
    "button": false,
    "jupyter": {
     "outputs_hidden": false
    },
    "new_sheet": false,
    "run_control": {
     "read_only": false
    }
   },
   "outputs": [
    {
     "data": {
      "text/html": [
       "<div style=\"width:100%;\"><div style=\"position:relative;width:100%;height:0;padding-bottom:60%;\"><iframe src=\"data:text/html;charset=utf-8;base64,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\" style=\"position:absolute;width:100%;height:100%;left:0;top:0;border:none !important;\" allowfullscreen webkitallowfullscreen mozallowfullscreen></iframe></div></div>"
      ],
      "text/plain": [
       "<folium.folium.Map at 0x2be796661d0>"
      ]
     },
     "execution_count": 6,
     "metadata": {},
     "output_type": "execute_result"
    }
   ],
   "source": [
    "# define the world map centered around Canada with a higher zoom level\n",
    "world_map = folium.Map(location=[56.130, -106.35], zoom_start=8)\n",
    "\n",
    "# display world map\n",
    "world_map"
   ]
  },
  {
   "cell_type": "markdown",
   "metadata": {
    "button": false,
    "new_sheet": false,
    "run_control": {
     "read_only": false
    }
   },
   "source": [
    "As you can see, the higher the zoom level the more the map is zoomed into the given center."
   ]
  },
  {
   "cell_type": "markdown",
   "metadata": {
    "button": false,
    "new_sheet": false,
    "run_control": {
     "read_only": false
    }
   },
   "source": [
    "**Question**: Create a map of Mexico with a zoom level of 4."
   ]
  },
  {
   "cell_type": "code",
   "execution_count": 7,
   "metadata": {
    "button": false,
    "jupyter": {
     "outputs_hidden": false
    },
    "new_sheet": false,
    "run_control": {
     "read_only": false
    }
   },
   "outputs": [],
   "source": [
    "### type your answer here\n",
    "\n",
    "\n",
    "\n"
   ]
  },
  {
   "cell_type": "markdown",
   "metadata": {
    "button": false,
    "new_sheet": false,
    "run_control": {
     "read_only": false
    }
   },
   "source": [
    "Double-click __here__ for the solution.\n",
    "<!-- The correct answer is:\n",
    "\\\\ # define Mexico's geolocation coordinates\n",
    "mexico_latitude = 23.6345 \n",
    "mexico_longitude = -102.5528\n",
    "-->\n",
    "\n",
    "<!--\n",
    "\\\\ # define the world map centered around Canada with a higher zoom level\n",
    "mexico_map = folium.Map(location=[mexico_latitude, mexico_longitude], zoom_start=4)\n",
    "-->\n",
    "\n",
    "<!--\n",
    "\\\\ # display world map\n",
    "mexico_map\n",
    "-->"
   ]
  },
  {
   "cell_type": "markdown",
   "metadata": {
    "button": false,
    "new_sheet": false,
    "run_control": {
     "read_only": false
    }
   },
   "source": [
    "Another cool feature of **Folium** is that you can generate different map styles."
   ]
  },
  {
   "cell_type": "markdown",
   "metadata": {
    "button": false,
    "new_sheet": false,
    "run_control": {
     "read_only": false
    }
   },
   "source": [
    "### A. Stamen Toner Maps\n",
    "\n",
    "These are high-contrast B+W (black and white) maps. They are perfect for data mashups and exploring river meanders and coastal zones. "
   ]
  },
  {
   "cell_type": "markdown",
   "metadata": {
    "button": false,
    "new_sheet": false,
    "run_control": {
     "read_only": false
    }
   },
   "source": [
    "Let's create a Stamen Toner map of canada with a zoom level of 4."
   ]
  },
  {
   "cell_type": "code",
   "execution_count": 8,
   "metadata": {
    "button": false,
    "jupyter": {
     "outputs_hidden": false
    },
    "new_sheet": false,
    "run_control": {
     "read_only": false
    }
   },
   "outputs": [
    {
     "data": {
      "text/html": [
       "<div style=\"width:100%;\"><div style=\"position:relative;width:100%;height:0;padding-bottom:60%;\"><iframe src=\"data:text/html;charset=utf-8;base64,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\" style=\"position:absolute;width:100%;height:100%;left:0;top:0;border:none !important;\" allowfullscreen webkitallowfullscreen mozallowfullscreen></iframe></div></div>"
      ],
      "text/plain": [
       "<folium.folium.Map at 0x2be796942b0>"
      ]
     },
     "execution_count": 8,
     "metadata": {},
     "output_type": "execute_result"
    }
   ],
   "source": [
    "# create a Stamen Toner map of the world centered around Canada\n",
    "world_map = folium.Map(location=[56.130, -106.35], zoom_start=4, tiles='Stamen Toner')\n",
    "\n",
    "# display map\n",
    "world_map"
   ]
  },
  {
   "cell_type": "markdown",
   "metadata": {
    "button": false,
    "new_sheet": false,
    "run_control": {
     "read_only": false
    }
   },
   "source": [
    "Feel free to zoom in and out to see how this style compares to the default one."
   ]
  },
  {
   "cell_type": "markdown",
   "metadata": {
    "button": false,
    "new_sheet": false,
    "run_control": {
     "read_only": false
    }
   },
   "source": [
    "### B. Stamen Terrain Maps\n",
    "\n",
    "These are maps that feature hill shading and natural vegetation colors. They showcase advanced labeling and linework generalization of dual-carriageway roads."
   ]
  },
  {
   "cell_type": "markdown",
   "metadata": {
    "button": false,
    "new_sheet": false,
    "run_control": {
     "read_only": false
    }
   },
   "source": [
    "Let's create a Stamen Terrain map of Canada with zoom level 4."
   ]
  },
  {
   "cell_type": "code",
   "execution_count": 9,
   "metadata": {
    "button": false,
    "jupyter": {
     "outputs_hidden": false
    },
    "new_sheet": false,
    "run_control": {
     "read_only": false
    }
   },
   "outputs": [
    {
     "data": {
      "text/html": [
       "<div style=\"width:100%;\"><div style=\"position:relative;width:100%;height:0;padding-bottom:60%;\"><iframe src=\"data:text/html;charset=utf-8;base64,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\" style=\"position:absolute;width:100%;height:100%;left:0;top:0;border:none !important;\" allowfullscreen webkitallowfullscreen mozallowfullscreen></iframe></div></div>"
      ],
      "text/plain": [
       "<folium.folium.Map at 0x2be79694828>"
      ]
     },
     "execution_count": 9,
     "metadata": {},
     "output_type": "execute_result"
    }
   ],
   "source": [
    "# create a Stamen Toner map of the world centered around Canada\n",
    "world_map = folium.Map(location=[56.130, -106.35], zoom_start=4, tiles='Stamen Terrain')\n",
    "\n",
    "# display map\n",
    "world_map"
   ]
  },
  {
   "cell_type": "markdown",
   "metadata": {
    "button": false,
    "new_sheet": false,
    "run_control": {
     "read_only": false
    }
   },
   "source": [
    "Feel free to zoom in and out to see how this style compares to Stamen Toner and the default style."
   ]
  },
  {
   "cell_type": "markdown",
   "metadata": {
    "button": false,
    "new_sheet": false,
    "run_control": {
     "read_only": false
    }
   },
   "source": [
    "### C. Mapbox Bright Maps\n",
    "\n",
    "These are maps that quite similar to the default style, except that the borders are not visible with a low zoom level. Furthermore, unlike the default style where country names are displayed in each country's native language, *Mapbox Bright* style displays all country names in English."
   ]
  },
  {
   "cell_type": "markdown",
   "metadata": {
    "button": false,
    "new_sheet": false,
    "run_control": {
     "read_only": false
    }
   },
   "source": [
    "Let's create a world map with this style."
   ]
  },
  {
   "cell_type": "code",
   "execution_count": 10,
   "metadata": {
    "button": false,
    "jupyter": {
     "outputs_hidden": false
    },
    "new_sheet": false,
    "run_control": {
     "read_only": false
    }
   },
   "outputs": [
    {
     "data": {
      "text/html": [
       "<div style=\"width:100%;\"><div style=\"position:relative;width:100%;height:0;padding-bottom:60%;\"><iframe src=\"data:text/html;charset=utf-8;base64,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\" style=\"position:absolute;width:100%;height:100%;left:0;top:0;border:none !important;\" allowfullscreen webkitallowfullscreen mozallowfullscreen></iframe></div></div>"
      ],
      "text/plain": [
       "<folium.folium.Map at 0x2be796a41d0>"
      ]
     },
     "execution_count": 10,
     "metadata": {},
     "output_type": "execute_result"
    }
   ],
   "source": [
    "# create a world map with a Mapbox Bright style.\n",
    "world_map = folium.Map(tiles='Mapbox Bright')\n",
    "\n",
    "# display the map\n",
    "world_map"
   ]
  },
  {
   "cell_type": "markdown",
   "metadata": {
    "button": false,
    "new_sheet": false,
    "run_control": {
     "read_only": false
    }
   },
   "source": [
    "Zoom in and notice how the borders start showing as you zoom in, and the displayed country names are in English."
   ]
  },
  {
   "cell_type": "markdown",
   "metadata": {
    "button": false,
    "new_sheet": false,
    "run_control": {
     "read_only": false
    }
   },
   "source": [
    "**Question**: Create a map of Mexico to visualize its hill shading and natural vegetation. Use a zoom level of 6."
   ]
  },
  {
   "cell_type": "code",
   "execution_count": 11,
   "metadata": {
    "button": false,
    "jupyter": {
     "outputs_hidden": false
    },
    "new_sheet": false,
    "run_control": {
     "read_only": false
    }
   },
   "outputs": [],
   "source": [
    "### type your answer here\n",
    "\n",
    "\n",
    "\n"
   ]
  },
  {
   "cell_type": "markdown",
   "metadata": {
    "button": false,
    "new_sheet": false,
    "run_control": {
     "read_only": false
    }
   },
   "source": [
    "Double-click __here__ for the solution.\n",
    "<!-- The correct answer is:\n",
    "\\\\ # define Mexico's geolocation coordinates\n",
    "mexico_latitude = 23.6345 \n",
    "mexico_longitude = -102.5528\n",
    "-->\n",
    "\n",
    "<!--\n",
    "\\\\ # define the world map centered around Canada with a higher zoom level\n",
    "mexico_map = folium.Map(location=[mexico_latitude, mexico_longitude], zoom_start=6, tiles='Stamen Terrain')\n",
    "-->\n",
    "\n",
    "<!--\n",
    "\\\\ # display world map\n",
    "mexico_map\n",
    "-->"
   ]
  },
  {
   "cell_type": "markdown",
   "metadata": {
    "button": false,
    "new_sheet": false,
    "run_control": {
     "read_only": false
    }
   },
   "source": [
    "# Maps with Markers <a id=\"6\"></a>\n"
   ]
  },
  {
   "cell_type": "markdown",
   "metadata": {
    "button": false,
    "new_sheet": false,
    "run_control": {
     "read_only": false
    }
   },
   "source": [
    "Let's download and import the data on police department incidents using *pandas* `read_csv()` method."
   ]
  },
  {
   "cell_type": "markdown",
   "metadata": {
    "button": false,
    "new_sheet": false,
    "run_control": {
     "read_only": false
    }
   },
   "source": [
    "Download the dataset and read it into a *pandas* dataframe:"
   ]
  },
  {
   "cell_type": "code",
   "execution_count": 12,
   "metadata": {
    "button": false,
    "jupyter": {
     "outputs_hidden": false
    },
    "new_sheet": false,
    "run_control": {
     "read_only": false
    }
   },
   "outputs": [
    {
     "name": "stdout",
     "output_type": "stream",
     "text": [
      "Dataset downloaded and read into a pandas dataframe!\n"
     ]
    }
   ],
   "source": [
    "df_incidents = pd.read_csv('https://s3-api.us-geo.objectstorage.softlayer.net/cf-courses-data/CognitiveClass/DV0101EN/labs/Data_Files/Police_Department_Incidents_-_Previous_Year__2016_.csv')\n",
    "\n",
    "print('Dataset downloaded and read into a pandas dataframe!')"
   ]
  },
  {
   "cell_type": "markdown",
   "metadata": {
    "button": false,
    "new_sheet": false,
    "run_control": {
     "read_only": false
    }
   },
   "source": [
    "Let's take a look at the first five items in our dataset."
   ]
  },
  {
   "cell_type": "code",
   "execution_count": 13,
   "metadata": {
    "button": false,
    "jupyter": {
     "outputs_hidden": false
    },
    "new_sheet": false,
    "run_control": {
     "read_only": false
    }
   },
   "outputs": [
    {
     "data": {
      "text/html": [
       "<div>\n",
       "<style scoped>\n",
       "    .dataframe tbody tr th:only-of-type {\n",
       "        vertical-align: middle;\n",
       "    }\n",
       "\n",
       "    .dataframe tbody tr th {\n",
       "        vertical-align: top;\n",
       "    }\n",
       "\n",
       "    .dataframe thead th {\n",
       "        text-align: right;\n",
       "    }\n",
       "</style>\n",
       "<table border=\"1\" class=\"dataframe\">\n",
       "  <thead>\n",
       "    <tr style=\"text-align: right;\">\n",
       "      <th></th>\n",
       "      <th>IncidntNum</th>\n",
       "      <th>Category</th>\n",
       "      <th>Descript</th>\n",
       "      <th>DayOfWeek</th>\n",
       "      <th>Date</th>\n",
       "      <th>Time</th>\n",
       "      <th>PdDistrict</th>\n",
       "      <th>Resolution</th>\n",
       "      <th>Address</th>\n",
       "      <th>X</th>\n",
       "      <th>Y</th>\n",
       "      <th>Location</th>\n",
       "      <th>PdId</th>\n",
       "    </tr>\n",
       "  </thead>\n",
       "  <tbody>\n",
       "    <tr>\n",
       "      <th>0</th>\n",
       "      <td>120058272</td>\n",
       "      <td>WEAPON LAWS</td>\n",
       "      <td>POSS OF PROHIBITED WEAPON</td>\n",
       "      <td>Friday</td>\n",
       "      <td>01/29/2016 12:00:00 AM</td>\n",
       "      <td>11:00</td>\n",
       "      <td>SOUTHERN</td>\n",
       "      <td>ARREST, BOOKED</td>\n",
       "      <td>800 Block of BRYANT ST</td>\n",
       "      <td>-122.403405</td>\n",
       "      <td>37.775421</td>\n",
       "      <td>(37.775420706711, -122.403404791479)</td>\n",
       "      <td>12005827212120</td>\n",
       "    </tr>\n",
       "    <tr>\n",
       "      <th>1</th>\n",
       "      <td>120058272</td>\n",
       "      <td>WEAPON LAWS</td>\n",
       "      <td>FIREARM, LOADED, IN VEHICLE, POSSESSION OR USE</td>\n",
       "      <td>Friday</td>\n",
       "      <td>01/29/2016 12:00:00 AM</td>\n",
       "      <td>11:00</td>\n",
       "      <td>SOUTHERN</td>\n",
       "      <td>ARREST, BOOKED</td>\n",
       "      <td>800 Block of BRYANT ST</td>\n",
       "      <td>-122.403405</td>\n",
       "      <td>37.775421</td>\n",
       "      <td>(37.775420706711, -122.403404791479)</td>\n",
       "      <td>12005827212168</td>\n",
       "    </tr>\n",
       "    <tr>\n",
       "      <th>2</th>\n",
       "      <td>141059263</td>\n",
       "      <td>WARRANTS</td>\n",
       "      <td>WARRANT ARREST</td>\n",
       "      <td>Monday</td>\n",
       "      <td>04/25/2016 12:00:00 AM</td>\n",
       "      <td>14:59</td>\n",
       "      <td>BAYVIEW</td>\n",
       "      <td>ARREST, BOOKED</td>\n",
       "      <td>KEITH ST / SHAFTER AV</td>\n",
       "      <td>-122.388856</td>\n",
       "      <td>37.729981</td>\n",
       "      <td>(37.7299809672996, -122.388856204292)</td>\n",
       "      <td>14105926363010</td>\n",
       "    </tr>\n",
       "    <tr>\n",
       "      <th>3</th>\n",
       "      <td>160013662</td>\n",
       "      <td>NON-CRIMINAL</td>\n",
       "      <td>LOST PROPERTY</td>\n",
       "      <td>Tuesday</td>\n",
       "      <td>01/05/2016 12:00:00 AM</td>\n",
       "      <td>23:50</td>\n",
       "      <td>TENDERLOIN</td>\n",
       "      <td>NONE</td>\n",
       "      <td>JONES ST / OFARRELL ST</td>\n",
       "      <td>-122.412971</td>\n",
       "      <td>37.785788</td>\n",
       "      <td>(37.7857883766888, -122.412970537591)</td>\n",
       "      <td>16001366271000</td>\n",
       "    </tr>\n",
       "    <tr>\n",
       "      <th>4</th>\n",
       "      <td>160002740</td>\n",
       "      <td>NON-CRIMINAL</td>\n",
       "      <td>LOST PROPERTY</td>\n",
       "      <td>Friday</td>\n",
       "      <td>01/01/2016 12:00:00 AM</td>\n",
       "      <td>00:30</td>\n",
       "      <td>MISSION</td>\n",
       "      <td>NONE</td>\n",
       "      <td>16TH ST / MISSION ST</td>\n",
       "      <td>-122.419672</td>\n",
       "      <td>37.765050</td>\n",
       "      <td>(37.7650501214668, -122.419671780296)</td>\n",
       "      <td>16000274071000</td>\n",
       "    </tr>\n",
       "  </tbody>\n",
       "</table>\n",
       "</div>"
      ],
      "text/plain": [
       "   IncidntNum      Category                                        Descript  \\\n",
       "0   120058272   WEAPON LAWS                       POSS OF PROHIBITED WEAPON   \n",
       "1   120058272   WEAPON LAWS  FIREARM, LOADED, IN VEHICLE, POSSESSION OR USE   \n",
       "2   141059263      WARRANTS                                  WARRANT ARREST   \n",
       "3   160013662  NON-CRIMINAL                                   LOST PROPERTY   \n",
       "4   160002740  NON-CRIMINAL                                   LOST PROPERTY   \n",
       "\n",
       "  DayOfWeek                    Date   Time  PdDistrict      Resolution  \\\n",
       "0    Friday  01/29/2016 12:00:00 AM  11:00    SOUTHERN  ARREST, BOOKED   \n",
       "1    Friday  01/29/2016 12:00:00 AM  11:00    SOUTHERN  ARREST, BOOKED   \n",
       "2    Monday  04/25/2016 12:00:00 AM  14:59     BAYVIEW  ARREST, BOOKED   \n",
       "3   Tuesday  01/05/2016 12:00:00 AM  23:50  TENDERLOIN            NONE   \n",
       "4    Friday  01/01/2016 12:00:00 AM  00:30     MISSION            NONE   \n",
       "\n",
       "                  Address           X          Y  \\\n",
       "0  800 Block of BRYANT ST -122.403405  37.775421   \n",
       "1  800 Block of BRYANT ST -122.403405  37.775421   \n",
       "2   KEITH ST / SHAFTER AV -122.388856  37.729981   \n",
       "3  JONES ST / OFARRELL ST -122.412971  37.785788   \n",
       "4    16TH ST / MISSION ST -122.419672  37.765050   \n",
       "\n",
       "                                Location            PdId  \n",
       "0   (37.775420706711, -122.403404791479)  12005827212120  \n",
       "1   (37.775420706711, -122.403404791479)  12005827212168  \n",
       "2  (37.7299809672996, -122.388856204292)  14105926363010  \n",
       "3  (37.7857883766888, -122.412970537591)  16001366271000  \n",
       "4  (37.7650501214668, -122.419671780296)  16000274071000  "
      ]
     },
     "execution_count": 13,
     "metadata": {},
     "output_type": "execute_result"
    }
   ],
   "source": [
    "df_incidents.head()"
   ]
  },
  {
   "cell_type": "markdown",
   "metadata": {
    "button": false,
    "new_sheet": false,
    "run_control": {
     "read_only": false
    }
   },
   "source": [
    "So each row consists of 13 features:\n",
    "> 1. **IncidntNum**: Incident Number\n",
    "> 2. **Category**: Category of crime or incident\n",
    "> 3. **Descript**: Description of the crime or incident\n",
    "> 4. **DayOfWeek**: The day of week on which the incident occurred\n",
    "> 5. **Date**: The Date on which the incident occurred\n",
    "> 6. **Time**: The time of day on which the incident occurred\n",
    "> 7. **PdDistrict**: The police department district\n",
    "> 8. **Resolution**: The resolution of the crime in terms whether the perpetrator was arrested or not\n",
    "> 9. **Address**: The closest address to where the incident took place\n",
    "> 10. **X**: The longitude value of the crime location \n",
    "> 11. **Y**: The latitude value of the crime location\n",
    "> 12. **Location**: A tuple of the latitude and the longitude values\n",
    "> 13. **PdId**: The police department ID"
   ]
  },
  {
   "cell_type": "markdown",
   "metadata": {
    "button": false,
    "new_sheet": false,
    "run_control": {
     "read_only": false
    }
   },
   "source": [
    "Let's find out how many entries there are in our dataset."
   ]
  },
  {
   "cell_type": "code",
   "execution_count": 14,
   "metadata": {
    "button": false,
    "jupyter": {
     "outputs_hidden": false
    },
    "new_sheet": false,
    "run_control": {
     "read_only": false
    }
   },
   "outputs": [
    {
     "data": {
      "text/plain": [
       "(150500, 13)"
      ]
     },
     "execution_count": 14,
     "metadata": {},
     "output_type": "execute_result"
    }
   ],
   "source": [
    "df_incidents.shape"
   ]
  },
  {
   "cell_type": "markdown",
   "metadata": {
    "button": false,
    "new_sheet": false,
    "run_control": {
     "read_only": false
    }
   },
   "source": [
    "So the dataframe consists of 150,500 crimes, which took place in the year 2016. In order to reduce computational cost, let's just work with the first 100 incidents in this dataset."
   ]
  },
  {
   "cell_type": "code",
   "execution_count": 15,
   "metadata": {
    "button": false,
    "jupyter": {
     "outputs_hidden": true
    },
    "new_sheet": false,
    "run_control": {
     "read_only": false
    }
   },
   "outputs": [],
   "source": [
    "# get the first 100 crimes in the df_incidents dataframe\n",
    "limit = 100\n",
    "df_incidents = df_incidents.iloc[0:limit, :]"
   ]
  },
  {
   "cell_type": "markdown",
   "metadata": {
    "button": false,
    "new_sheet": false,
    "run_control": {
     "read_only": false
    }
   },
   "source": [
    "Let's confirm that our dataframe now consists only of 100 crimes."
   ]
  },
  {
   "cell_type": "code",
   "execution_count": 16,
   "metadata": {
    "button": false,
    "jupyter": {
     "outputs_hidden": false
    },
    "new_sheet": false,
    "run_control": {
     "read_only": false
    }
   },
   "outputs": [
    {
     "data": {
      "text/plain": [
       "(100, 13)"
      ]
     },
     "execution_count": 16,
     "metadata": {},
     "output_type": "execute_result"
    }
   ],
   "source": [
    "df_incidents.shape"
   ]
  },
  {
   "cell_type": "markdown",
   "metadata": {
    "button": false,
    "new_sheet": false,
    "run_control": {
     "read_only": false
    }
   },
   "source": [
    "Now that we reduced the data a little bit, let's visualize where these crimes took place in the city of San Francisco. We will use the default style and we will initialize the zoom level to 12. "
   ]
  },
  {
   "cell_type": "code",
   "execution_count": 17,
   "metadata": {
    "button": false,
    "jupyter": {
     "outputs_hidden": true
    },
    "new_sheet": false,
    "run_control": {
     "read_only": false
    }
   },
   "outputs": [],
   "source": [
    "# San Francisco latitude and longitude values\n",
    "latitude = 37.77\n",
    "longitude = -122.42"
   ]
  },
  {
   "cell_type": "code",
   "execution_count": 18,
   "metadata": {
    "button": false,
    "jupyter": {
     "outputs_hidden": false
    },
    "new_sheet": false,
    "run_control": {
     "read_only": false
    }
   },
   "outputs": [
    {
     "data": {
      "text/html": [
       "<div style=\"width:100%;\"><div style=\"position:relative;width:100%;height:0;padding-bottom:60%;\"><iframe src=\"data:text/html;charset=utf-8;base64,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\" style=\"position:absolute;width:100%;height:100%;left:0;top:0;border:none !important;\" allowfullscreen webkitallowfullscreen mozallowfullscreen></iframe></div></div>"
      ],
      "text/plain": [
       "<folium.folium.Map at 0x2be79d48b00>"
      ]
     },
     "execution_count": 18,
     "metadata": {},
     "output_type": "execute_result"
    }
   ],
   "source": [
    "# create map and display it\n",
    "sanfran_map = folium.Map(location=[latitude, longitude], zoom_start=12)\n",
    "\n",
    "# display the map of San Francisco\n",
    "sanfran_map"
   ]
  },
  {
   "cell_type": "markdown",
   "metadata": {
    "button": false,
    "new_sheet": false,
    "run_control": {
     "read_only": false
    }
   },
   "source": [
    "Now let's superimpose the locations of the crimes onto the map. The way to do that in **Folium** is to create a *feature group* with its own features and style and then add it to the sanfran_map."
   ]
  },
  {
   "cell_type": "code",
   "execution_count": 19,
   "metadata": {
    "button": false,
    "jupyter": {
     "outputs_hidden": false
    },
    "new_sheet": false,
    "run_control": {
     "read_only": false
    }
   },
   "outputs": [
    {
     "ename": "AttributeError",
     "evalue": "module 'folium.features' has no attribute 'CircleMarker'",
     "output_type": "error",
     "traceback": [
      "\u001b[1;31m---------------------------------------------------------------------------\u001b[0m",
      "\u001b[1;31mAttributeError\u001b[0m                            Traceback (most recent call last)",
      "\u001b[1;32m<ipython-input-19-fb9eeb91a9aa>\u001b[0m in \u001b[0;36m<module>\u001b[1;34m\u001b[0m\n\u001b[0;32m      5\u001b[0m \u001b[1;32mfor\u001b[0m \u001b[0mlat\u001b[0m\u001b[1;33m,\u001b[0m \u001b[0mlng\u001b[0m\u001b[1;33m,\u001b[0m \u001b[1;32min\u001b[0m \u001b[0mzip\u001b[0m\u001b[1;33m(\u001b[0m\u001b[0mdf_incidents\u001b[0m\u001b[1;33m.\u001b[0m\u001b[0mY\u001b[0m\u001b[1;33m,\u001b[0m \u001b[0mdf_incidents\u001b[0m\u001b[1;33m.\u001b[0m\u001b[0mX\u001b[0m\u001b[1;33m)\u001b[0m\u001b[1;33m:\u001b[0m\u001b[1;33m\u001b[0m\u001b[1;33m\u001b[0m\u001b[0m\n\u001b[0;32m      6\u001b[0m     incidents.add_child(\n\u001b[1;32m----> 7\u001b[1;33m         folium.features.CircleMarker(\n\u001b[0m\u001b[0;32m      8\u001b[0m             \u001b[1;33m[\u001b[0m\u001b[0mlat\u001b[0m\u001b[1;33m,\u001b[0m \u001b[0mlng\u001b[0m\u001b[1;33m]\u001b[0m\u001b[1;33m,\u001b[0m\u001b[1;33m\u001b[0m\u001b[1;33m\u001b[0m\u001b[0m\n\u001b[0;32m      9\u001b[0m             \u001b[0mradius\u001b[0m\u001b[1;33m=\u001b[0m\u001b[1;36m5\u001b[0m\u001b[1;33m,\u001b[0m \u001b[1;31m# define how big you want the circle markers to be\u001b[0m\u001b[1;33m\u001b[0m\u001b[1;33m\u001b[0m\u001b[0m\n",
      "\u001b[1;31mAttributeError\u001b[0m: module 'folium.features' has no attribute 'CircleMarker'"
     ]
    }
   ],
   "source": [
    "# instantiate a feature group for the incidents in the dataframe\n",
    "incidents = folium.map.FeatureGroup()\n",
    "\n",
    "# loop through the 100 crimes and add each to the incidents feature group\n",
    "for lat, lng, in zip(df_incidents.Y, df_incidents.X):\n",
    "    incidents.add_child(\n",
    "        folium.features.CircleMarker(\n",
    "            [lat, lng],\n",
    "            radius=5, # define how big you want the circle markers to be\n",
    "            color='yellow',\n",
    "            fill=True,\n",
    "            fill_color='blue',\n",
    "            fill_opacity=0.6\n",
    "        )\n",
    "    )\n",
    "\n",
    "# add incidents to map\n",
    "sanfran_map.add_child(incidents)"
   ]
  },
  {
   "cell_type": "markdown",
   "metadata": {
    "button": false,
    "new_sheet": false,
    "run_control": {
     "read_only": false
    }
   },
   "source": [
    "You can also add some pop-up text that would get displayed when you hover over a marker. Let's make each marker display the category of the crime when hovered over."
   ]
  },
  {
   "cell_type": "code",
   "execution_count": 20,
   "metadata": {
    "button": false,
    "jupyter": {
     "outputs_hidden": false
    },
    "new_sheet": false,
    "run_control": {
     "read_only": false
    }
   },
   "outputs": [
    {
     "ename": "AttributeError",
     "evalue": "module 'folium.features' has no attribute 'CircleMarker'",
     "output_type": "error",
     "traceback": [
      "\u001b[1;31m---------------------------------------------------------------------------\u001b[0m",
      "\u001b[1;31mAttributeError\u001b[0m                            Traceback (most recent call last)",
      "\u001b[1;32m<ipython-input-20-941d08d09650>\u001b[0m in \u001b[0;36m<module>\u001b[1;34m\u001b[0m\n\u001b[0;32m      5\u001b[0m \u001b[1;32mfor\u001b[0m \u001b[0mlat\u001b[0m\u001b[1;33m,\u001b[0m \u001b[0mlng\u001b[0m\u001b[1;33m,\u001b[0m \u001b[1;32min\u001b[0m \u001b[0mzip\u001b[0m\u001b[1;33m(\u001b[0m\u001b[0mdf_incidents\u001b[0m\u001b[1;33m.\u001b[0m\u001b[0mY\u001b[0m\u001b[1;33m,\u001b[0m \u001b[0mdf_incidents\u001b[0m\u001b[1;33m.\u001b[0m\u001b[0mX\u001b[0m\u001b[1;33m)\u001b[0m\u001b[1;33m:\u001b[0m\u001b[1;33m\u001b[0m\u001b[1;33m\u001b[0m\u001b[0m\n\u001b[0;32m      6\u001b[0m     incidents.add_child(\n\u001b[1;32m----> 7\u001b[1;33m         folium.features.CircleMarker(\n\u001b[0m\u001b[0;32m      8\u001b[0m             \u001b[1;33m[\u001b[0m\u001b[0mlat\u001b[0m\u001b[1;33m,\u001b[0m \u001b[0mlng\u001b[0m\u001b[1;33m]\u001b[0m\u001b[1;33m,\u001b[0m\u001b[1;33m\u001b[0m\u001b[1;33m\u001b[0m\u001b[0m\n\u001b[0;32m      9\u001b[0m             \u001b[0mradius\u001b[0m\u001b[1;33m=\u001b[0m\u001b[1;36m5\u001b[0m\u001b[1;33m,\u001b[0m \u001b[1;31m# define how big you want the circle markers to be\u001b[0m\u001b[1;33m\u001b[0m\u001b[1;33m\u001b[0m\u001b[0m\n",
      "\u001b[1;31mAttributeError\u001b[0m: module 'folium.features' has no attribute 'CircleMarker'"
     ]
    }
   ],
   "source": [
    "# instantiate a feature group for the incidents in the dataframe\n",
    "incidents = folium.map.FeatureGroup()\n",
    "\n",
    "# loop through the 100 crimes and add each to the incidents feature group\n",
    "for lat, lng, in zip(df_incidents.Y, df_incidents.X):\n",
    "    incidents.add_child(\n",
    "        folium.features.CircleMarker(\n",
    "            [lat, lng],\n",
    "            radius=5, # define how big you want the circle markers to be\n",
    "            color='yellow',\n",
    "            fill=True,\n",
    "            fill_color='blue',\n",
    "            fill_opacity=0.6\n",
    "        )\n",
    "    )\n",
    "\n",
    "# add pop-up text to each marker on the map\n",
    "latitudes = list(df_incidents.Y)\n",
    "longitudes = list(df_incidents.X)\n",
    "labels = list(df_incidents.Category)\n",
    "\n",
    "for lat, lng, label in zip(latitudes, longitudes, labels):\n",
    "    folium.Marker([lat, lng], popup=label).add_to(sanfran_map)    \n",
    "    \n",
    "# add incidents to map\n",
    "sanfran_map.add_child(incidents)"
   ]
  },
  {
   "cell_type": "markdown",
   "metadata": {
    "button": false,
    "new_sheet": false,
    "run_control": {
     "read_only": false
    }
   },
   "source": [
    "Isn't this really cool? Now you are able to know what crime category occurred at each marker.\n",
    "\n",
    "If you find the map to be so congested will all these markers, there are two remedies to this problem. The simpler solution is to remove these location markers and just add the text to the circle markers themselves as follows:"
   ]
  },
  {
   "cell_type": "code",
   "execution_count": 21,
   "metadata": {
    "button": false,
    "jupyter": {
     "outputs_hidden": false
    },
    "new_sheet": false,
    "run_control": {
     "read_only": false
    }
   },
   "outputs": [
    {
     "ename": "AttributeError",
     "evalue": "module 'folium.features' has no attribute 'CircleMarker'",
     "output_type": "error",
     "traceback": [
      "\u001b[1;31m---------------------------------------------------------------------------\u001b[0m",
      "\u001b[1;31mAttributeError\u001b[0m                            Traceback (most recent call last)",
      "\u001b[1;32m<ipython-input-21-c1af58bb29b7>\u001b[0m in \u001b[0;36m<module>\u001b[1;34m\u001b[0m\n\u001b[0;32m      4\u001b[0m \u001b[1;31m# loop through the 100 crimes and add each to the map\u001b[0m\u001b[1;33m\u001b[0m\u001b[1;33m\u001b[0m\u001b[1;33m\u001b[0m\u001b[0m\n\u001b[0;32m      5\u001b[0m \u001b[1;32mfor\u001b[0m \u001b[0mlat\u001b[0m\u001b[1;33m,\u001b[0m \u001b[0mlng\u001b[0m\u001b[1;33m,\u001b[0m \u001b[0mlabel\u001b[0m \u001b[1;32min\u001b[0m \u001b[0mzip\u001b[0m\u001b[1;33m(\u001b[0m\u001b[0mdf_incidents\u001b[0m\u001b[1;33m.\u001b[0m\u001b[0mY\u001b[0m\u001b[1;33m,\u001b[0m \u001b[0mdf_incidents\u001b[0m\u001b[1;33m.\u001b[0m\u001b[0mX\u001b[0m\u001b[1;33m,\u001b[0m \u001b[0mdf_incidents\u001b[0m\u001b[1;33m.\u001b[0m\u001b[0mCategory\u001b[0m\u001b[1;33m)\u001b[0m\u001b[1;33m:\u001b[0m\u001b[1;33m\u001b[0m\u001b[1;33m\u001b[0m\u001b[0m\n\u001b[1;32m----> 6\u001b[1;33m     folium.features.CircleMarker(\n\u001b[0m\u001b[0;32m      7\u001b[0m         \u001b[1;33m[\u001b[0m\u001b[0mlat\u001b[0m\u001b[1;33m,\u001b[0m \u001b[0mlng\u001b[0m\u001b[1;33m]\u001b[0m\u001b[1;33m,\u001b[0m\u001b[1;33m\u001b[0m\u001b[1;33m\u001b[0m\u001b[0m\n\u001b[0;32m      8\u001b[0m         \u001b[0mradius\u001b[0m\u001b[1;33m=\u001b[0m\u001b[1;36m5\u001b[0m\u001b[1;33m,\u001b[0m \u001b[1;31m# define how big you want the circle markers to be\u001b[0m\u001b[1;33m\u001b[0m\u001b[1;33m\u001b[0m\u001b[0m\n",
      "\u001b[1;31mAttributeError\u001b[0m: module 'folium.features' has no attribute 'CircleMarker'"
     ]
    }
   ],
   "source": [
    "# create map and display it\n",
    "sanfran_map = folium.Map(location=[latitude, longitude], zoom_start=12)\n",
    "\n",
    "# loop through the 100 crimes and add each to the map\n",
    "for lat, lng, label in zip(df_incidents.Y, df_incidents.X, df_incidents.Category):\n",
    "    folium.features.CircleMarker(\n",
    "        [lat, lng],\n",
    "        radius=5, # define how big you want the circle markers to be\n",
    "        color='yellow',\n",
    "        fill=True,\n",
    "        popup=label,\n",
    "        fill_color='blue',\n",
    "        fill_opacity=0.6\n",
    "    ).add_to(sanfran_map)\n",
    "\n",
    "# show map\n",
    "sanfran_map"
   ]
  },
  {
   "cell_type": "markdown",
   "metadata": {
    "button": false,
    "new_sheet": false,
    "run_control": {
     "read_only": false
    }
   },
   "source": [
    "The other proper remedy is to group the markers into different clusters. Each cluster is then represented by the number of crimes in each neighborhood. These clusters can be thought of as pockets of San Francisco which you can then analyze separately.\n",
    "\n",
    "To implement this, we start off by instantiating a *MarkerCluster* object and adding all the data points in the dataframe to this object."
   ]
  },
  {
   "cell_type": "code",
   "execution_count": 22,
   "metadata": {
    "button": false,
    "jupyter": {
     "outputs_hidden": false
    },
    "new_sheet": false,
    "run_control": {
     "read_only": false
    }
   },
   "outputs": [
    {
     "data": {
      "text/html": [
       "<div style=\"width:100%;\"><div style=\"position:relative;width:100%;height:0;padding-bottom:60%;\"><iframe src=\"data:text/html;charset=utf-8;base64,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\" style=\"position:absolute;width:100%;height:100%;left:0;top:0;border:none !important;\" allowfullscreen webkitallowfullscreen mozallowfullscreen></iframe></div></div>"
      ],
      "text/plain": [
       "<folium.folium.Map at 0x2be00274eb8>"
      ]
     },
     "execution_count": 22,
     "metadata": {},
     "output_type": "execute_result"
    }
   ],
   "source": [
    "from folium import plugins\n",
    "\n",
    "# let's start again with a clean copy of the map of San Francisco\n",
    "sanfran_map = folium.Map(location = [latitude, longitude], zoom_start = 12)\n",
    "\n",
    "# instantiate a mark cluster object for the incidents in the dataframe\n",
    "incidents = plugins.MarkerCluster().add_to(sanfran_map)\n",
    "\n",
    "# loop through the dataframe and add each data point to the mark cluster\n",
    "for lat, lng, label, in zip(df_incidents.Y, df_incidents.X, df_incidents.Category):\n",
    "    folium.Marker(\n",
    "        location=[lat, lng],\n",
    "        icon=None,\n",
    "        popup=label,\n",
    "    ).add_to(incidents)\n",
    "\n",
    "# display map\n",
    "sanfran_map"
   ]
  },
  {
   "cell_type": "markdown",
   "metadata": {
    "button": false,
    "new_sheet": false,
    "run_control": {
     "read_only": false
    }
   },
   "source": [
    "Notice how when you zoom out all the way, all markers are grouped into one cluster, *the global cluster*, of 100 markers or crimes, which is the total number of crimes in our dataframe. Once you start zooming in, the *global cluster* will start breaking up into smaller clusters. Zooming in all the way will result in individual markers."
   ]
  },
  {
   "cell_type": "markdown",
   "metadata": {
    "button": false,
    "new_sheet": false,
    "run_control": {
     "read_only": false
    }
   },
   "source": [
    "# Choropleth Maps <a id=\"8\"></a>\n",
    "\n",
    "A `Choropleth` map is a thematic map in which areas are shaded or patterned in proportion to the measurement of the statistical variable being displayed on the map, such as population density or per-capita income. The choropleth map provides an easy way to visualize how a measurement varies across a geographic area or it shows the level of variability within a region. Below is a `Choropleth` map of the US depicting the population by square mile per state.\n",
    "\n",
    "<img src = \"https://s3-api.us-geo.objectstorage.softlayer.net/cf-courses-data/CognitiveClass/DV0101EN/labs/Images/2000_census_population_density_map_by_state.png\" width = 600> "
   ]
  },
  {
   "cell_type": "markdown",
   "metadata": {
    "button": false,
    "new_sheet": false,
    "run_control": {
     "read_only": false
    }
   },
   "source": [
    "Now, let's create our own `Choropleth` map of the world depicting immigration from various countries to Canada.\n",
    "\n",
    "Let's first download and import our primary Canadian immigration dataset using *pandas* `read_excel()` method. Normally, before we can do that, we would need to download a module which *pandas* requires to read in excel files. This module is **xlrd**. For your convenience, we have pre-installed this module, so you would not have to worry about that. Otherwise, you would need to run the following line of code to install the **xlrd** module:\n",
    "```\n",
    "!conda install -c anaconda xlrd --yes\n",
    "```"
   ]
  },
  {
   "cell_type": "markdown",
   "metadata": {
    "button": false,
    "new_sheet": false,
    "run_control": {
     "read_only": false
    }
   },
   "source": [
    "Download the dataset and read it into a *pandas* dataframe:"
   ]
  },
  {
   "cell_type": "code",
   "execution_count": 23,
   "metadata": {
    "button": false,
    "jupyter": {
     "outputs_hidden": false
    },
    "new_sheet": false,
    "run_control": {
     "read_only": false
    }
   },
   "outputs": [
    {
     "name": "stdout",
     "output_type": "stream",
     "text": [
      "Data downloaded and read into a dataframe!\n"
     ]
    }
   ],
   "source": [
    "df_can = pd.read_excel('https://s3-api.us-geo.objectstorage.softlayer.net/cf-courses-data/CognitiveClass/DV0101EN/labs/Data_Files/Canada.xlsx',\n",
    "                     sheet_name='Canada by Citizenship',\n",
    "                     skiprows=range(20),\n",
    "                     skipfooter=2)\n",
    "\n",
    "print('Data downloaded and read into a dataframe!')"
   ]
  },
  {
   "cell_type": "markdown",
   "metadata": {
    "button": false,
    "new_sheet": false,
    "run_control": {
     "read_only": false
    }
   },
   "source": [
    "Let's take a look at the first five items in our dataset."
   ]
  },
  {
   "cell_type": "code",
   "execution_count": 24,
   "metadata": {
    "button": false,
    "jupyter": {
     "outputs_hidden": false
    },
    "new_sheet": false,
    "run_control": {
     "read_only": false
    },
    "scrolled": true
   },
   "outputs": [
    {
     "data": {
      "text/html": [
       "<div>\n",
       "<style scoped>\n",
       "    .dataframe tbody tr th:only-of-type {\n",
       "        vertical-align: middle;\n",
       "    }\n",
       "\n",
       "    .dataframe tbody tr th {\n",
       "        vertical-align: top;\n",
       "    }\n",
       "\n",
       "    .dataframe thead th {\n",
       "        text-align: right;\n",
       "    }\n",
       "</style>\n",
       "<table border=\"1\" class=\"dataframe\">\n",
       "  <thead>\n",
       "    <tr style=\"text-align: right;\">\n",
       "      <th></th>\n",
       "      <th>Type</th>\n",
       "      <th>Coverage</th>\n",
       "      <th>OdName</th>\n",
       "      <th>AREA</th>\n",
       "      <th>AreaName</th>\n",
       "      <th>REG</th>\n",
       "      <th>RegName</th>\n",
       "      <th>DEV</th>\n",
       "      <th>DevName</th>\n",
       "      <th>1980</th>\n",
       "      <th>...</th>\n",
       "      <th>2004</th>\n",
       "      <th>2005</th>\n",
       "      <th>2006</th>\n",
       "      <th>2007</th>\n",
       "      <th>2008</th>\n",
       "      <th>2009</th>\n",
       "      <th>2010</th>\n",
       "      <th>2011</th>\n",
       "      <th>2012</th>\n",
       "      <th>2013</th>\n",
       "    </tr>\n",
       "  </thead>\n",
       "  <tbody>\n",
       "    <tr>\n",
       "      <th>0</th>\n",
       "      <td>Immigrants</td>\n",
       "      <td>Foreigners</td>\n",
       "      <td>Afghanistan</td>\n",
       "      <td>935</td>\n",
       "      <td>Asia</td>\n",
       "      <td>5501</td>\n",
       "      <td>Southern Asia</td>\n",
       "      <td>902</td>\n",
       "      <td>Developing regions</td>\n",
       "      <td>16</td>\n",
       "      <td>...</td>\n",
       "      <td>2978</td>\n",
       "      <td>3436</td>\n",
       "      <td>3009</td>\n",
       "      <td>2652</td>\n",
       "      <td>2111</td>\n",
       "      <td>1746</td>\n",
       "      <td>1758</td>\n",
       "      <td>2203</td>\n",
       "      <td>2635</td>\n",
       "      <td>2004</td>\n",
       "    </tr>\n",
       "    <tr>\n",
       "      <th>1</th>\n",
       "      <td>Immigrants</td>\n",
       "      <td>Foreigners</td>\n",
       "      <td>Albania</td>\n",
       "      <td>908</td>\n",
       "      <td>Europe</td>\n",
       "      <td>925</td>\n",
       "      <td>Southern Europe</td>\n",
       "      <td>901</td>\n",
       "      <td>Developed regions</td>\n",
       "      <td>1</td>\n",
       "      <td>...</td>\n",
       "      <td>1450</td>\n",
       "      <td>1223</td>\n",
       "      <td>856</td>\n",
       "      <td>702</td>\n",
       "      <td>560</td>\n",
       "      <td>716</td>\n",
       "      <td>561</td>\n",
       "      <td>539</td>\n",
       "      <td>620</td>\n",
       "      <td>603</td>\n",
       "    </tr>\n",
       "    <tr>\n",
       "      <th>2</th>\n",
       "      <td>Immigrants</td>\n",
       "      <td>Foreigners</td>\n",
       "      <td>Algeria</td>\n",
       "      <td>903</td>\n",
       "      <td>Africa</td>\n",
       "      <td>912</td>\n",
       "      <td>Northern Africa</td>\n",
       "      <td>902</td>\n",
       "      <td>Developing regions</td>\n",
       "      <td>80</td>\n",
       "      <td>...</td>\n",
       "      <td>3616</td>\n",
       "      <td>3626</td>\n",
       "      <td>4807</td>\n",
       "      <td>3623</td>\n",
       "      <td>4005</td>\n",
       "      <td>5393</td>\n",
       "      <td>4752</td>\n",
       "      <td>4325</td>\n",
       "      <td>3774</td>\n",
       "      <td>4331</td>\n",
       "    </tr>\n",
       "    <tr>\n",
       "      <th>3</th>\n",
       "      <td>Immigrants</td>\n",
       "      <td>Foreigners</td>\n",
       "      <td>American Samoa</td>\n",
       "      <td>909</td>\n",
       "      <td>Oceania</td>\n",
       "      <td>957</td>\n",
       "      <td>Polynesia</td>\n",
       "      <td>902</td>\n",
       "      <td>Developing regions</td>\n",
       "      <td>0</td>\n",
       "      <td>...</td>\n",
       "      <td>0</td>\n",
       "      <td>0</td>\n",
       "      <td>1</td>\n",
       "      <td>0</td>\n",
       "      <td>0</td>\n",
       "      <td>0</td>\n",
       "      <td>0</td>\n",
       "      <td>0</td>\n",
       "      <td>0</td>\n",
       "      <td>0</td>\n",
       "    </tr>\n",
       "    <tr>\n",
       "      <th>4</th>\n",
       "      <td>Immigrants</td>\n",
       "      <td>Foreigners</td>\n",
       "      <td>Andorra</td>\n",
       "      <td>908</td>\n",
       "      <td>Europe</td>\n",
       "      <td>925</td>\n",
       "      <td>Southern Europe</td>\n",
       "      <td>901</td>\n",
       "      <td>Developed regions</td>\n",
       "      <td>0</td>\n",
       "      <td>...</td>\n",
       "      <td>0</td>\n",
       "      <td>0</td>\n",
       "      <td>1</td>\n",
       "      <td>1</td>\n",
       "      <td>0</td>\n",
       "      <td>0</td>\n",
       "      <td>0</td>\n",
       "      <td>0</td>\n",
       "      <td>1</td>\n",
       "      <td>1</td>\n",
       "    </tr>\n",
       "  </tbody>\n",
       "</table>\n",
       "<p>5 rows × 43 columns</p>\n",
       "</div>"
      ],
      "text/plain": [
       "         Type    Coverage          OdName  AREA AreaName   REG  \\\n",
       "0  Immigrants  Foreigners     Afghanistan   935     Asia  5501   \n",
       "1  Immigrants  Foreigners         Albania   908   Europe   925   \n",
       "2  Immigrants  Foreigners         Algeria   903   Africa   912   \n",
       "3  Immigrants  Foreigners  American Samoa   909  Oceania   957   \n",
       "4  Immigrants  Foreigners         Andorra   908   Europe   925   \n",
       "\n",
       "           RegName  DEV             DevName  1980  ...  2004  2005  2006  \\\n",
       "0    Southern Asia  902  Developing regions    16  ...  2978  3436  3009   \n",
       "1  Southern Europe  901   Developed regions     1  ...  1450  1223   856   \n",
       "2  Northern Africa  902  Developing regions    80  ...  3616  3626  4807   \n",
       "3        Polynesia  902  Developing regions     0  ...     0     0     1   \n",
       "4  Southern Europe  901   Developed regions     0  ...     0     0     1   \n",
       "\n",
       "   2007  2008  2009  2010  2011  2012  2013  \n",
       "0  2652  2111  1746  1758  2203  2635  2004  \n",
       "1   702   560   716   561   539   620   603  \n",
       "2  3623  4005  5393  4752  4325  3774  4331  \n",
       "3     0     0     0     0     0     0     0  \n",
       "4     1     0     0     0     0     1     1  \n",
       "\n",
       "[5 rows x 43 columns]"
      ]
     },
     "execution_count": 24,
     "metadata": {},
     "output_type": "execute_result"
    }
   ],
   "source": [
    "df_can.head()"
   ]
  },
  {
   "cell_type": "markdown",
   "metadata": {
    "button": false,
    "new_sheet": false,
    "run_control": {
     "read_only": false
    }
   },
   "source": [
    "Let's find out how many entries there are in our dataset."
   ]
  },
  {
   "cell_type": "code",
   "execution_count": 25,
   "metadata": {
    "button": false,
    "jupyter": {
     "outputs_hidden": false
    },
    "new_sheet": false,
    "run_control": {
     "read_only": false
    }
   },
   "outputs": [
    {
     "name": "stdout",
     "output_type": "stream",
     "text": [
      "(195, 43)\n"
     ]
    }
   ],
   "source": [
    "# print the dimensions of the dataframe\n",
    "print(df_can.shape)"
   ]
  },
  {
   "cell_type": "markdown",
   "metadata": {
    "button": false,
    "new_sheet": false,
    "run_control": {
     "read_only": false
    }
   },
   "source": [
    "Clean up data. We will make some modifications to the original dataset to make it easier to create our visualizations. Refer to *Introduction to Matplotlib and Line Plots* and *Area Plots, Histograms, and Bar Plots* notebooks for a detailed description of this preprocessing."
   ]
  },
  {
   "cell_type": "code",
   "execution_count": 26,
   "metadata": {
    "button": false,
    "jupyter": {
     "outputs_hidden": false
    },
    "new_sheet": false,
    "run_control": {
     "read_only": false
    },
    "scrolled": true
   },
   "outputs": [
    {
     "name": "stdout",
     "output_type": "stream",
     "text": [
      "data dimensions: (195, 39)\n"
     ]
    }
   ],
   "source": [
    "# clean up the dataset to remove unnecessary columns (eg. REG) \n",
    "df_can.drop(['AREA','REG','DEV','Type','Coverage'], axis=1, inplace=True)\n",
    "\n",
    "# let's rename the columns so that they make sense\n",
    "df_can.rename(columns={'OdName':'Country', 'AreaName':'Continent','RegName':'Region'}, inplace=True)\n",
    "\n",
    "# for sake of consistency, let's also make all column labels of type string\n",
    "df_can.columns = list(map(str, df_can.columns))\n",
    "\n",
    "# add total column\n",
    "df_can['Total'] = df_can.sum(axis=1)\n",
    "\n",
    "# years that we will be using in this lesson - useful for plotting later on\n",
    "years = list(map(str, range(1980, 2014)))\n",
    "print ('data dimensions:', df_can.shape)"
   ]
  },
  {
   "cell_type": "markdown",
   "metadata": {
    "button": false,
    "new_sheet": false,
    "run_control": {
     "read_only": false
    }
   },
   "source": [
    "Let's take a look at the first five items of our cleaned dataframe."
   ]
  },
  {
   "cell_type": "code",
   "execution_count": 27,
   "metadata": {
    "button": false,
    "jupyter": {
     "outputs_hidden": false
    },
    "new_sheet": false,
    "run_control": {
     "read_only": false
    }
   },
   "outputs": [
    {
     "data": {
      "text/html": [
       "<div>\n",
       "<style scoped>\n",
       "    .dataframe tbody tr th:only-of-type {\n",
       "        vertical-align: middle;\n",
       "    }\n",
       "\n",
       "    .dataframe tbody tr th {\n",
       "        vertical-align: top;\n",
       "    }\n",
       "\n",
       "    .dataframe thead th {\n",
       "        text-align: right;\n",
       "    }\n",
       "</style>\n",
       "<table border=\"1\" class=\"dataframe\">\n",
       "  <thead>\n",
       "    <tr style=\"text-align: right;\">\n",
       "      <th></th>\n",
       "      <th>Country</th>\n",
       "      <th>Continent</th>\n",
       "      <th>Region</th>\n",
       "      <th>DevName</th>\n",
       "      <th>1980</th>\n",
       "      <th>1981</th>\n",
       "      <th>1982</th>\n",
       "      <th>1983</th>\n",
       "      <th>1984</th>\n",
       "      <th>1985</th>\n",
       "      <th>...</th>\n",
       "      <th>2005</th>\n",
       "      <th>2006</th>\n",
       "      <th>2007</th>\n",
       "      <th>2008</th>\n",
       "      <th>2009</th>\n",
       "      <th>2010</th>\n",
       "      <th>2011</th>\n",
       "      <th>2012</th>\n",
       "      <th>2013</th>\n",
       "      <th>Total</th>\n",
       "    </tr>\n",
       "  </thead>\n",
       "  <tbody>\n",
       "    <tr>\n",
       "      <th>0</th>\n",
       "      <td>Afghanistan</td>\n",
       "      <td>Asia</td>\n",
       "      <td>Southern Asia</td>\n",
       "      <td>Developing regions</td>\n",
       "      <td>16</td>\n",
       "      <td>39</td>\n",
       "      <td>39</td>\n",
       "      <td>47</td>\n",
       "      <td>71</td>\n",
       "      <td>340</td>\n",
       "      <td>...</td>\n",
       "      <td>3436</td>\n",
       "      <td>3009</td>\n",
       "      <td>2652</td>\n",
       "      <td>2111</td>\n",
       "      <td>1746</td>\n",
       "      <td>1758</td>\n",
       "      <td>2203</td>\n",
       "      <td>2635</td>\n",
       "      <td>2004</td>\n",
       "      <td>58639</td>\n",
       "    </tr>\n",
       "    <tr>\n",
       "      <th>1</th>\n",
       "      <td>Albania</td>\n",
       "      <td>Europe</td>\n",
       "      <td>Southern Europe</td>\n",
       "      <td>Developed regions</td>\n",
       "      <td>1</td>\n",
       "      <td>0</td>\n",
       "      <td>0</td>\n",
       "      <td>0</td>\n",
       "      <td>0</td>\n",
       "      <td>0</td>\n",
       "      <td>...</td>\n",
       "      <td>1223</td>\n",
       "      <td>856</td>\n",
       "      <td>702</td>\n",
       "      <td>560</td>\n",
       "      <td>716</td>\n",
       "      <td>561</td>\n",
       "      <td>539</td>\n",
       "      <td>620</td>\n",
       "      <td>603</td>\n",
       "      <td>15699</td>\n",
       "    </tr>\n",
       "    <tr>\n",
       "      <th>2</th>\n",
       "      <td>Algeria</td>\n",
       "      <td>Africa</td>\n",
       "      <td>Northern Africa</td>\n",
       "      <td>Developing regions</td>\n",
       "      <td>80</td>\n",
       "      <td>67</td>\n",
       "      <td>71</td>\n",
       "      <td>69</td>\n",
       "      <td>63</td>\n",
       "      <td>44</td>\n",
       "      <td>...</td>\n",
       "      <td>3626</td>\n",
       "      <td>4807</td>\n",
       "      <td>3623</td>\n",
       "      <td>4005</td>\n",
       "      <td>5393</td>\n",
       "      <td>4752</td>\n",
       "      <td>4325</td>\n",
       "      <td>3774</td>\n",
       "      <td>4331</td>\n",
       "      <td>69439</td>\n",
       "    </tr>\n",
       "    <tr>\n",
       "      <th>3</th>\n",
       "      <td>American Samoa</td>\n",
       "      <td>Oceania</td>\n",
       "      <td>Polynesia</td>\n",
       "      <td>Developing regions</td>\n",
       "      <td>0</td>\n",
       "      <td>1</td>\n",
       "      <td>0</td>\n",
       "      <td>0</td>\n",
       "      <td>0</td>\n",
       "      <td>0</td>\n",
       "      <td>...</td>\n",
       "      <td>0</td>\n",
       "      <td>1</td>\n",
       "      <td>0</td>\n",
       "      <td>0</td>\n",
       "      <td>0</td>\n",
       "      <td>0</td>\n",
       "      <td>0</td>\n",
       "      <td>0</td>\n",
       "      <td>0</td>\n",
       "      <td>6</td>\n",
       "    </tr>\n",
       "    <tr>\n",
       "      <th>4</th>\n",
       "      <td>Andorra</td>\n",
       "      <td>Europe</td>\n",
       "      <td>Southern Europe</td>\n",
       "      <td>Developed regions</td>\n",
       "      <td>0</td>\n",
       "      <td>0</td>\n",
       "      <td>0</td>\n",
       "      <td>0</td>\n",
       "      <td>0</td>\n",
       "      <td>0</td>\n",
       "      <td>...</td>\n",
       "      <td>0</td>\n",
       "      <td>1</td>\n",
       "      <td>1</td>\n",
       "      <td>0</td>\n",
       "      <td>0</td>\n",
       "      <td>0</td>\n",
       "      <td>0</td>\n",
       "      <td>1</td>\n",
       "      <td>1</td>\n",
       "      <td>15</td>\n",
       "    </tr>\n",
       "  </tbody>\n",
       "</table>\n",
       "<p>5 rows × 39 columns</p>\n",
       "</div>"
      ],
      "text/plain": [
       "          Country Continent           Region             DevName  1980  1981  \\\n",
       "0     Afghanistan      Asia    Southern Asia  Developing regions    16    39   \n",
       "1         Albania    Europe  Southern Europe   Developed regions     1     0   \n",
       "2         Algeria    Africa  Northern Africa  Developing regions    80    67   \n",
       "3  American Samoa   Oceania        Polynesia  Developing regions     0     1   \n",
       "4         Andorra    Europe  Southern Europe   Developed regions     0     0   \n",
       "\n",
       "   1982  1983  1984  1985  ...  2005  2006  2007  2008  2009  2010  2011  \\\n",
       "0    39    47    71   340  ...  3436  3009  2652  2111  1746  1758  2203   \n",
       "1     0     0     0     0  ...  1223   856   702   560   716   561   539   \n",
       "2    71    69    63    44  ...  3626  4807  3623  4005  5393  4752  4325   \n",
       "3     0     0     0     0  ...     0     1     0     0     0     0     0   \n",
       "4     0     0     0     0  ...     0     1     1     0     0     0     0   \n",
       "\n",
       "   2012  2013  Total  \n",
       "0  2635  2004  58639  \n",
       "1   620   603  15699  \n",
       "2  3774  4331  69439  \n",
       "3     0     0      6  \n",
       "4     1     1     15  \n",
       "\n",
       "[5 rows x 39 columns]"
      ]
     },
     "execution_count": 27,
     "metadata": {},
     "output_type": "execute_result"
    }
   ],
   "source": [
    "df_can.head()"
   ]
  },
  {
   "cell_type": "markdown",
   "metadata": {
    "button": false,
    "new_sheet": false,
    "run_control": {
     "read_only": false
    }
   },
   "source": [
    "In order to create a `Choropleth` map, we need a GeoJSON file that defines the areas/boundaries of the state, county, or country that we are interested in. In our case, since we are endeavoring to create a world map, we want a GeoJSON that defines the boundaries of all world countries. For your convenience, we will be providing you with this file, so let's go ahead and download it. Let's name it **world_countries.json**."
   ]
  },
  {
   "cell_type": "code",
   "execution_count": 28,
   "metadata": {
    "button": false,
    "jupyter": {
     "outputs_hidden": false
    },
    "new_sheet": false,
    "run_control": {
     "read_only": false
    }
   },
   "outputs": [
    {
     "name": "stdout",
     "output_type": "stream",
     "text": [
      "GeoJSON file downloaded!\n"
     ]
    },
    {
     "name": "stderr",
     "output_type": "stream",
     "text": [
      "'wget' is not recognized as an internal or external command,\n",
      "operable program or batch file.\n"
     ]
    }
   ],
   "source": [
    "# download countries geojson file\n",
    "!wget --quiet https://s3-api.us-geo.objectstorage.softlayer.net/cf-courses-data/CognitiveClass/DV0101EN/labs/Data_Files/world_countries.json -O world_countries.json\n",
    "    \n",
    "print('GeoJSON file downloaded!')"
   ]
  },
  {
   "cell_type": "markdown",
   "metadata": {
    "button": false,
    "new_sheet": false,
    "run_control": {
     "read_only": false
    }
   },
   "source": [
    "Now that we have the GeoJSON file, let's create a world map, centered around **[0, 0]** *latitude* and *longitude* values, with an intial zoom level of 2, and using *Mapbox Bright* style."
   ]
  },
  {
   "cell_type": "code",
   "execution_count": 29,
   "metadata": {
    "button": false,
    "jupyter": {
     "outputs_hidden": false
    },
    "new_sheet": false,
    "run_control": {
     "read_only": false
    }
   },
   "outputs": [],
   "source": [
    "world_geo = r'world_countries.json' # geojson file\n",
    "\n",
    "# create a plain world map\n",
    "world_map = folium.Map(location=[0, 0], zoom_start=2, tiles='Mapbox Bright')"
   ]
  },
  {
   "cell_type": "markdown",
   "metadata": {
    "button": false,
    "new_sheet": false,
    "run_control": {
     "read_only": false
    }
   },
   "source": [
    "And now to create a `Choropleth` map, we will use the *choropleth* method with the following main parameters:\n",
    "\n",
    "1. geo_data, which is the GeoJSON file.\n",
    "2. data, which is the dataframe containing the data.\n",
    "3. columns, which represents the columns in the dataframe that will be used to create the `Choropleth` map.\n",
    "4. key_on, which is the key or variable in the GeoJSON file that contains the name of the variable of interest. To determine that, you will need to open the GeoJSON file using any text editor and note the name of the key or variable that contains the name of the countries, since the countries are our variable of interest. In this case, **name** is the key in the GeoJSON file that contains the name of the countries. Note that this key is case_sensitive, so you need to pass exactly as it exists in the GeoJSON file."
   ]
  },
  {
   "cell_type": "code",
   "execution_count": 30,
   "metadata": {
    "button": false,
    "jupyter": {
     "outputs_hidden": true
    },
    "new_sheet": false,
    "run_control": {
     "read_only": false
    }
   },
   "outputs": [
    {
     "name": "stderr",
     "output_type": "stream",
     "text": [
      "C:\\Users\\hp\\Anaconda3\\lib\\site-packages\\folium\\folium.py:415: FutureWarning: The choropleth  method has been deprecated. Instead use the new Choropleth class, which has the same arguments. See the example notebook 'GeoJSON_and_choropleth' for how to do this.\n",
      "  FutureWarning\n"
     ]
    },
    {
     "ename": "FileNotFoundError",
     "evalue": "[Errno 2] No such file or directory: 'world_countries.json'",
     "output_type": "error",
     "traceback": [
      "\u001b[1;31m---------------------------------------------------------------------------\u001b[0m",
      "\u001b[1;31mFileNotFoundError\u001b[0m                         Traceback (most recent call last)",
      "\u001b[1;32m<ipython-input-30-7f184a1f0918>\u001b[0m in \u001b[0;36m<module>\u001b[1;34m\u001b[0m\n\u001b[0;32m      8\u001b[0m     \u001b[0mfill_opacity\u001b[0m\u001b[1;33m=\u001b[0m\u001b[1;36m0.7\u001b[0m\u001b[1;33m,\u001b[0m\u001b[1;33m\u001b[0m\u001b[1;33m\u001b[0m\u001b[0m\n\u001b[0;32m      9\u001b[0m     \u001b[0mline_opacity\u001b[0m\u001b[1;33m=\u001b[0m\u001b[1;36m0.2\u001b[0m\u001b[1;33m,\u001b[0m\u001b[1;33m\u001b[0m\u001b[1;33m\u001b[0m\u001b[0m\n\u001b[1;32m---> 10\u001b[1;33m     \u001b[0mlegend_name\u001b[0m\u001b[1;33m=\u001b[0m\u001b[1;34m'Immigration to Canada'\u001b[0m\u001b[1;33m\u001b[0m\u001b[1;33m\u001b[0m\u001b[0m\n\u001b[0m\u001b[0;32m     11\u001b[0m )\n\u001b[0;32m     12\u001b[0m \u001b[1;33m\u001b[0m\u001b[0m\n",
      "\u001b[1;32m~\\Anaconda3\\lib\\site-packages\\folium\\folium.py\u001b[0m in \u001b[0;36mchoropleth\u001b[1;34m(self, *args, **kwargs)\u001b[0m\n\u001b[0;32m    416\u001b[0m         )\n\u001b[0;32m    417\u001b[0m         \u001b[1;32mfrom\u001b[0m \u001b[0mfolium\u001b[0m\u001b[1;33m.\u001b[0m\u001b[0mfeatures\u001b[0m \u001b[1;32mimport\u001b[0m \u001b[0mChoropleth\u001b[0m\u001b[1;33m\u001b[0m\u001b[1;33m\u001b[0m\u001b[0m\n\u001b[1;32m--> 418\u001b[1;33m         \u001b[0mself\u001b[0m\u001b[1;33m.\u001b[0m\u001b[0madd_child\u001b[0m\u001b[1;33m(\u001b[0m\u001b[0mChoropleth\u001b[0m\u001b[1;33m(\u001b[0m\u001b[1;33m*\u001b[0m\u001b[0margs\u001b[0m\u001b[1;33m,\u001b[0m \u001b[1;33m**\u001b[0m\u001b[0mkwargs\u001b[0m\u001b[1;33m)\u001b[0m\u001b[1;33m)\u001b[0m\u001b[1;33m\u001b[0m\u001b[1;33m\u001b[0m\u001b[0m\n\u001b[0m\u001b[0;32m    419\u001b[0m \u001b[1;33m\u001b[0m\u001b[0m\n\u001b[0;32m    420\u001b[0m     \u001b[1;32mdef\u001b[0m \u001b[0mkeep_in_front\u001b[0m\u001b[1;33m(\u001b[0m\u001b[0mself\u001b[0m\u001b[1;33m,\u001b[0m \u001b[1;33m*\u001b[0m\u001b[0margs\u001b[0m\u001b[1;33m)\u001b[0m\u001b[1;33m:\u001b[0m\u001b[1;33m\u001b[0m\u001b[1;33m\u001b[0m\u001b[0m\n",
      "\u001b[1;32m~\\Anaconda3\\lib\\site-packages\\folium\\features.py\u001b[0m in \u001b[0;36m__init__\u001b[1;34m(self, geo_data, data, columns, key_on, bins, fill_color, nan_fill_color, fill_opacity, nan_fill_opacity, line_color, line_weight, line_opacity, name, legend_name, overlay, control, show, topojson, smooth_factor, highlight, **kwargs)\u001b[0m\n\u001b[0;32m   1154\u001b[0m                 \u001b[0mstyle_function\u001b[0m\u001b[1;33m=\u001b[0m\u001b[0mstyle_function\u001b[0m\u001b[1;33m,\u001b[0m\u001b[1;33m\u001b[0m\u001b[1;33m\u001b[0m\u001b[0m\n\u001b[0;32m   1155\u001b[0m                 \u001b[0msmooth_factor\u001b[0m\u001b[1;33m=\u001b[0m\u001b[0msmooth_factor\u001b[0m\u001b[1;33m,\u001b[0m\u001b[1;33m\u001b[0m\u001b[1;33m\u001b[0m\u001b[0m\n\u001b[1;32m-> 1156\u001b[1;33m                 highlight_function=highlight_function if highlight else None)\n\u001b[0m\u001b[0;32m   1157\u001b[0m \u001b[1;33m\u001b[0m\u001b[0m\n\u001b[0;32m   1158\u001b[0m         \u001b[0mself\u001b[0m\u001b[1;33m.\u001b[0m\u001b[0madd_child\u001b[0m\u001b[1;33m(\u001b[0m\u001b[0mself\u001b[0m\u001b[1;33m.\u001b[0m\u001b[0mgeojson\u001b[0m\u001b[1;33m)\u001b[0m\u001b[1;33m\u001b[0m\u001b[1;33m\u001b[0m\u001b[0m\n",
      "\u001b[1;32m~\\Anaconda3\\lib\\site-packages\\folium\\features.py\u001b[0m in \u001b[0;36m__init__\u001b[1;34m(self, data, style_function, highlight_function, name, overlay, control, show, smooth_factor, tooltip, embed)\u001b[0m\n\u001b[0;32m    448\u001b[0m         \u001b[0mself\u001b[0m\u001b[1;33m.\u001b[0m\u001b[0mhighlight\u001b[0m \u001b[1;33m=\u001b[0m \u001b[0mhighlight_function\u001b[0m \u001b[1;32mis\u001b[0m \u001b[1;32mnot\u001b[0m \u001b[1;32mNone\u001b[0m\u001b[1;33m\u001b[0m\u001b[1;33m\u001b[0m\u001b[0m\n\u001b[0;32m    449\u001b[0m \u001b[1;33m\u001b[0m\u001b[0m\n\u001b[1;32m--> 450\u001b[1;33m         \u001b[0mself\u001b[0m\u001b[1;33m.\u001b[0m\u001b[0mdata\u001b[0m \u001b[1;33m=\u001b[0m \u001b[0mself\u001b[0m\u001b[1;33m.\u001b[0m\u001b[0mprocess_data\u001b[0m\u001b[1;33m(\u001b[0m\u001b[0mdata\u001b[0m\u001b[1;33m)\u001b[0m\u001b[1;33m\u001b[0m\u001b[1;33m\u001b[0m\u001b[0m\n\u001b[0m\u001b[0;32m    451\u001b[0m \u001b[1;33m\u001b[0m\u001b[0m\n\u001b[0;32m    452\u001b[0m         \u001b[1;32mif\u001b[0m \u001b[0mself\u001b[0m\u001b[1;33m.\u001b[0m\u001b[0mstyle\u001b[0m \u001b[1;32mor\u001b[0m \u001b[0mself\u001b[0m\u001b[1;33m.\u001b[0m\u001b[0mhighlight\u001b[0m\u001b[1;33m:\u001b[0m\u001b[1;33m\u001b[0m\u001b[1;33m\u001b[0m\u001b[0m\n",
      "\u001b[1;32m~\\Anaconda3\\lib\\site-packages\\folium\\features.py\u001b[0m in \u001b[0;36mprocess_data\u001b[1;34m(self, data)\u001b[0m\n\u001b[0;32m    483\u001b[0m                 \u001b[1;32mif\u001b[0m \u001b[1;32mnot\u001b[0m \u001b[0mself\u001b[0m\u001b[1;33m.\u001b[0m\u001b[0membed\u001b[0m\u001b[1;33m:\u001b[0m\u001b[1;33m\u001b[0m\u001b[1;33m\u001b[0m\u001b[0m\n\u001b[0;32m    484\u001b[0m                     \u001b[0mself\u001b[0m\u001b[1;33m.\u001b[0m\u001b[0membed_link\u001b[0m \u001b[1;33m=\u001b[0m \u001b[0mdata\u001b[0m\u001b[1;33m\u001b[0m\u001b[1;33m\u001b[0m\u001b[0m\n\u001b[1;32m--> 485\u001b[1;33m                 \u001b[1;32mwith\u001b[0m \u001b[0mopen\u001b[0m\u001b[1;33m(\u001b[0m\u001b[0mdata\u001b[0m\u001b[1;33m)\u001b[0m \u001b[1;32mas\u001b[0m \u001b[0mf\u001b[0m\u001b[1;33m:\u001b[0m\u001b[1;33m\u001b[0m\u001b[1;33m\u001b[0m\u001b[0m\n\u001b[0m\u001b[0;32m    486\u001b[0m                     \u001b[1;32mreturn\u001b[0m \u001b[0mjson\u001b[0m\u001b[1;33m.\u001b[0m\u001b[0mloads\u001b[0m\u001b[1;33m(\u001b[0m\u001b[0mf\u001b[0m\u001b[1;33m.\u001b[0m\u001b[0mread\u001b[0m\u001b[1;33m(\u001b[0m\u001b[1;33m)\u001b[0m\u001b[1;33m)\u001b[0m\u001b[1;33m\u001b[0m\u001b[1;33m\u001b[0m\u001b[0m\n\u001b[0;32m    487\u001b[0m         \u001b[1;32melif\u001b[0m \u001b[0mhasattr\u001b[0m\u001b[1;33m(\u001b[0m\u001b[0mdata\u001b[0m\u001b[1;33m,\u001b[0m \u001b[1;34m'__geo_interface__'\u001b[0m\u001b[1;33m)\u001b[0m\u001b[1;33m:\u001b[0m\u001b[1;33m\u001b[0m\u001b[1;33m\u001b[0m\u001b[0m\n",
      "\u001b[1;31mFileNotFoundError\u001b[0m: [Errno 2] No such file or directory: 'world_countries.json'"
     ]
    }
   ],
   "source": [
    "# generate choropleth map using the total immigration of each country to Canada from 1980 to 2013\n",
    "world_map.choropleth(\n",
    "    geo_data=world_geo,\n",
    "    data=df_can,\n",
    "    columns=['Country', 'Total'],\n",
    "    key_on='feature.properties.name',\n",
    "    fill_color='YlOrRd', \n",
    "    fill_opacity=0.7, \n",
    "    line_opacity=0.2,\n",
    "    legend_name='Immigration to Canada'\n",
    ")\n",
    "\n",
    "# display map\n",
    "world_map"
   ]
  },
  {
   "cell_type": "markdown",
   "metadata": {
    "button": false,
    "new_sheet": false,
    "run_control": {
     "read_only": false
    }
   },
   "source": [
    "As per our `Choropleth` map legend, the darker the color of a country and the closer the color to red, the higher the number of immigrants from that country. Accordingly, the highest immigration over the course of 33 years (from 1980 to 2013) was from China, India, and the Philippines, followed by Poland, Pakistan, and interestingly, the US."
   ]
  },
  {
   "cell_type": "markdown",
   "metadata": {
    "button": false,
    "new_sheet": false,
    "run_control": {
     "read_only": false
    }
   },
   "source": [
    "Notice how the legend is displaying a negative boundary or threshold. Let's fix that by defining our own thresholds and starting with 0 instead of -6,918!"
   ]
  },
  {
   "cell_type": "code",
   "execution_count": null,
   "metadata": {
    "button": false,
    "jupyter": {
     "outputs_hidden": false
    },
    "new_sheet": false,
    "run_control": {
     "read_only": false
    }
   },
   "outputs": [],
   "source": [
    "world_geo = r'world_countries.json'\n",
    "\n",
    "# create a numpy array of length 6 and has linear spacing from the minium total immigration to the maximum total immigration\n",
    "threshold_scale = np.linspace(df_can['Total'].min(),\n",
    "                              df_can['Total'].max(),\n",
    "                              6, dtype=int)\n",
    "threshold_scale = threshold_scale.tolist() # change the numpy array to a list\n",
    "threshold_scale[-1] = threshold_scale[-1] + 1 # make sure that the last value of the list is greater than the maximum immigration\n",
    "\n",
    "# let Folium determine the scale.\n",
    "world_map = folium.Map(location=[0, 0], zoom_start=2, tiles='Mapbox Bright')\n",
    "world_map.choropleth(\n",
    "    geo_data=world_geo,\n",
    "    data=df_can,\n",
    "    columns=['Country', 'Total'],\n",
    "    key_on='feature.properties.name',\n",
    "    threshold_scale=threshold_scale,\n",
    "    fill_color='YlOrRd', \n",
    "    fill_opacity=0.7, \n",
    "    line_opacity=0.2,\n",
    "    legend_name='Immigration to Canada',\n",
    "    reset=True\n",
    ")\n",
    "world_map"
   ]
  },
  {
   "cell_type": "markdown",
   "metadata": {
    "button": false,
    "new_sheet": false,
    "run_control": {
     "read_only": false
    }
   },
   "source": [
    "Much better now! Feel free to play around with the data and perhaps create `Choropleth` maps for individuals years, or perhaps decades, and see how they compare with the entire period from 1980 to 2013."
   ]
  }
 ],
 "metadata": {
  "kernelspec": {
   "display_name": "Python 3",
   "language": "python",
   "name": "python3"
  },
  "language_info": {
   "codemirror_mode": {
    "name": "ipython",
    "version": 3
   },
   "file_extension": ".py",
   "mimetype": "text/x-python",
   "name": "python",
   "nbconvert_exporter": "python",
   "pygments_lexer": "ipython3",
   "version": "3.7.3"
  },
  "widgets": {
   "state": {},
   "version": "1.1.2"
  }
 },
 "nbformat": 4,
 "nbformat_minor": 4
}
